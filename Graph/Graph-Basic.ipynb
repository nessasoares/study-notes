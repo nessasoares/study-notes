{
  "nbformat": 4,
  "nbformat_minor": 0,
  "metadata": {
    "colab": {
      "name": "Graph.ipynb",
      "provenance": []
    },
    "kernelspec": {
      "name": "python3",
      "display_name": "Python 3"
    }
  },
  "cells": [
    {
      "cell_type": "markdown",
      "metadata": {
        "id": "ZG87j7dov8Eb",
        "colab_type": "text"
      },
      "source": [
        "Seguindo tutorial desse link: https://towardsdatascience.com/an-intro-to-graph-theory-centrality-measurements-and-networkx-1c2e580adf37"
      ]
    },
    {
      "cell_type": "code",
      "metadata": {
        "id": "AzXuFpnmv3Ng",
        "colab_type": "code",
        "colab": {}
      },
      "source": [
        "import networkx as nx\n",
        "import matplotlib.pyplot as plt"
      ],
      "execution_count": 0,
      "outputs": []
    },
    {
      "cell_type": "code",
      "metadata": {
        "id": "if8h7XKmwTok",
        "colab_type": "code",
        "colab": {
          "base_uri": "https://localhost:8080/",
          "height": 319
        },
        "outputId": "4a7b6b4e-a243-4d4f-cdfa-26e136ea5e61"
      },
      "source": [
        "G = nx.DiGraph()\n",
        "G.add_edge('A', 'B')\n",
        "nx.draw(G, with_labels=True)\n",
        "plt.show()"
      ],
      "execution_count": 8,
      "outputs": [
        {
          "output_type": "display_data",
          "data": {
            "image/png": "[encoded data removed]",
            "text/plain": [
              "<Figure size 432x288 with 1 Axes>"
            ]
          },
          "metadata": {
            "tags": []
          }
        }
      ]
    },
    {
      "cell_type": "code",
      "metadata": {
        "id": "0UEvbLj4wctl",
        "colab_type": "code",
        "colab": {
          "base_uri": "https://localhost:8080/",
          "height": 319
        },
        "outputId": "29b58c0b-cac5-4195-f68e-1cf7ad9c6d2b"
      },
      "source": [
        "G = nx.Graph()\n",
        "G.add_edge('A','B')\n",
        "G.add_edge('A','C')\n",
        "G.add_edge('A','D')\n",
        "G.add_edge('B','C')\n",
        "G.add_edge('B','E')\n",
        "G.add_edge('B','F')\n",
        "G.add_edge('C','E')\n",
        "G.add_edge('C','D')\n",
        "G.add_edge('C','F')\n",
        "G.add_edge('E','F')\n",
        "G.add_edge('D','G')\n",
        "G.add_edge('F','G')\n",
        "G.add_edge('G','H')\n",
        "G.add_edge('G','I')\n",
        "G.add_edge('H','J')\n",
        "G.add_edge('H','K')\n",
        "G.add_edge('H','L')\n",
        "G.add_edge('J','M')\n",
        "G.add_edge('J','N')\n",
        "G.add_edge('J','O')\n",
        "G.add_edge('J','K')\n",
        "G.add_edge('J','L')\n",
        "G.add_edge('M','N')\n",
        "G.add_edge('M','L')\n",
        "G.add_edge('N','O')\n",
        "G.add_edge('O','P')\n",
        "G.add_edge('P','Q')\n",
        "G.add_edge('A','Q')\n",
        "nx.draw(G, with_labels=True)\n",
        "plt.show()"
      ],
      "execution_count": 11,
      "outputs": [
        {
          "output_type": "display_data",
          "data": {
            "image/png": "[encoded data removed]",
            "text/plain": [
              "<Figure size 432x288 with 1 Axes>"
            ]
          },
          "metadata": {
            "tags": []
          }
        }
      ]
    },
    {
      "cell_type": "code",
      "metadata": {
        "id": "7CiNugkCx0rq",
        "colab_type": "code",
        "colab": {
          "base_uri": "https://localhost:8080/",
          "height": 312
        },
        "outputId": "bd476568-ccde-45c6-ceda-64d0a7c5298b"
      },
      "source": [
        "# Degree Centrality\n",
        "for node in G:\n",
        "  print(node, nx.degree_centrality(G)[node])"
      ],
      "execution_count": 12,
      "outputs": [
        {
          "output_type": "stream",
          "text": [
            "A 0.25\n",
            "B 0.25\n",
            "C 0.3125\n",
            "D 0.1875\n",
            "E 0.1875\n",
            "F 0.25\n",
            "G 0.25\n",
            "H 0.25\n",
            "I 0.0625\n",
            "J 0.375\n",
            "K 0.125\n",
            "L 0.1875\n",
            "M 0.1875\n",
            "N 0.1875\n",
            "O 0.1875\n",
            "P 0.125\n",
            "Q 0.125\n"
          ],
          "name": "stdout"
        }
      ]
    },
    {
      "cell_type": "code",
      "metadata": {
        "id": "oQApZKPJyUM9",
        "colab_type": "code",
        "colab": {
          "base_uri": "https://localhost:8080/",
          "height": 312
        },
        "outputId": "07c4a5d9-7d16-4875-8a06-c71d9f303b9a"
      },
      "source": [
        "# Closeness Centrality\n",
        "for node in G.nodes():\n",
        "  print(node, nx.closeness_centrality(G, node))"
      ],
      "execution_count": 14,
      "outputs": [
        {
          "output_type": "stream",
          "text": [
            "A 0.38095238095238093\n",
            "B 0.35555555555555557\n",
            "C 0.36363636363636365\n",
            "D 0.41025641025641024\n",
            "E 0.32653061224489793\n",
            "F 0.4\n",
            "G 0.47058823529411764\n",
            "H 0.45714285714285713\n",
            "I 0.32653061224489793\n",
            "J 0.42105263157894735\n",
            "K 0.36363636363636365\n",
            "L 0.37209302325581395\n",
            "M 0.3137254901960784\n",
            "N 0.3333333333333333\n",
            "O 0.36363636363636365\n",
            "P 0.34782608695652173\n",
            "Q 0.35555555555555557\n"
          ],
          "name": "stdout"
        }
      ]
    },
    {
      "cell_type": "code",
      "metadata": {
        "id": "Wpxqx4_iy7Ag",
        "colab_type": "code",
        "colab": {
          "base_uri": "https://localhost:8080/",
          "height": 312
        },
        "outputId": "504cfa40-5db2-426e-dc48-571e152a716f"
      },
      "source": [
        "#Betweenness Centrality\n",
        "for node in G.nodes():\n",
        "  print(node, nx.betweenness_centrality(G)[node])"
      ],
      "execution_count": 15,
      "outputs": [
        {
          "output_type": "stream",
          "text": [
            "A 0.15\n",
            "B 0.027777777777777776\n",
            "C 0.04444444444444444\n",
            "D 0.1111111111111111\n",
            "E 0.0\n",
            "F 0.1638888888888889\n",
            "G 0.425\n",
            "H 0.3541666666666667\n",
            "I 0.0\n",
            "J 0.24583333333333332\n",
            "K 0.0\n",
            "L 0.035416666666666666\n",
            "M 0.004166666666666667\n",
            "N 0.014583333333333334\n",
            "O 0.12777777777777777\n",
            "P 0.1125\n",
            "Q 0.11666666666666667\n"
          ],
          "name": "stdout"
        }
      ]
    },
    {
      "cell_type": "code",
      "metadata": {
        "id": "h4INygGOzYpz",
        "colab_type": "code",
        "colab": {
          "base_uri": "https://localhost:8080/",
          "height": 312
        },
        "outputId": "7485a27b-e40a-460e-d70b-e51746973799"
      },
      "source": [
        "# Eigenvector Centrality\n",
        "# Its not what you know, but who you know\n",
        "\n",
        "for node in G.nodes():\n",
        "  print(node, nx.eigenvector_centrality(G, max_iter=1000)[node])\n"
      ],
      "execution_count": 16,
      "outputs": [
        {
          "output_type": "stream",
          "text": [
            "A 0.3286408184677797\n",
            "B 0.3993585214740547\n",
            "C 0.4569168766806966\n",
            "D 0.2731468426706968\n",
            "E 0.33010633714748816\n",
            "F 0.3801597443743022\n",
            "G 0.23753110527206128\n",
            "H 0.17296200697700345\n",
            "I 0.06341682993662373\n",
            "J 0.18782180652341296\n",
            "K 0.09632461166124637\n",
            "L 0.12615411826213918\n",
            "M 0.1117259235130823\n",
            "N 0.10449221592538031\n",
            "O 0.0918265416024895\n",
            "P 0.05162159668992732\n",
            "Q 0.10152350051525282\n"
          ],
          "name": "stdout"
        }
      ]
    },
    {
      "cell_type": "code",
      "metadata": {
        "id": "YkkyG6th0Fc0",
        "colab_type": "code",
        "colab": {}
      },
      "source": [
        ""
      ],
      "execution_count": 0,
      "outputs": []
    }
  ]
}